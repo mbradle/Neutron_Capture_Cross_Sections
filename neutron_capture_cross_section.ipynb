{
 "cells": [
  {
   "cell_type": "markdown",
   "metadata": {
    "id": "quNLe2bn0Eh3"
   },
   "source": [
    "This is a notebook that calculates neutron capture cross sections at a given T9 in units of millibarns $(mb)$"
   ]
  },
  {
   "cell_type": "markdown",
   "metadata": {},
   "source": [
    "Here we import the relavent python packages"
   ]
  },
  {
   "cell_type": "code",
   "execution_count": 1,
   "metadata": {
    "id": "wjXHgtLr0Lqt"
   },
   "outputs": [],
   "source": [
    "import sys\n",
    "!{sys.executable} -m pip install --quiet wnutils\n",
    "\n",
    "!{sys.executable} -m pip install --quiet astropy\n",
    "\n",
    "import os, io, requests\n",
    "\n",
    "import wnutils.xml as wx\n",
    "import numpy as np\n",
    "from astropy import constants as pc\n",
    "from astropy import units as u\n",
    "from matplotlib import pyplot as plt"
   ]
  },
  {
   "cell_type": "markdown",
   "metadata": {
    "id": "Ow3BRH3q1oRk"
   },
   "source": [
    "Retrieve network data from [OSF](https://osf.io/5cyg7/) or use a local file.  To use a local file, upload the network XML file to the local directory and execute the relevant command.  In the commented case, the file would be *example.xml*, so you would upload that file and uncomment the read line."
   ]
  },
  {
   "cell_type": "code",
   "execution_count": 2,
   "metadata": {
    "id": "K7puh5bF1o0g"
   },
   "outputs": [],
   "source": [
    "my_xml = wx.Xml(io.BytesIO(requests.get('https://osf.io/kyhbs/download').content))\n",
    "#my_xml = wx.Xml('example.xml')"
   ]
  },
  {
   "cell_type": "markdown",
   "metadata": {},
   "source": [
    "Use an xpath expression to select out only $(n, \\gamma)$ reaction data."
   ]
  },
  {
   "cell_type": "code",
   "execution_count": 3,
   "metadata": {
    "id": "vBWn1_hA12SY"
   },
   "outputs": [],
   "source": [
    "reac = my_xml.get_reaction_data(\"[reactant = 'n' and count(reactant) = 2  and product = 'gamma' and count(product) = 2]\")"
   ]
  },
  {
   "cell_type": "markdown",
   "metadata": {},
   "source": [
    "Now choose the temperature, T9, to calculate the cross sections.  Convert T9 to T in K."
   ]
  },
  {
   "cell_type": "code",
   "execution_count": 4,
   "metadata": {
    "id": "t9AKivcu1rjQ"
   },
   "outputs": [],
   "source": [
    "T9 = 0.8\n",
    "T = T9 * 1.e9 * u.K"
   ]
  },
  {
   "cell_type": "markdown",
   "metadata": {},
   "source": [
    "Now calculate the thermal velocity."
   ]
  },
  {
   "cell_type": "code",
   "execution_count": 5,
   "metadata": {
    "id": "NsaGPWxM1uUI"
   },
   "outputs": [],
   "source": [
    "v_t = np.sqrt((2 * pc.k_B.decompose(u.cgs.bases) * T) / pc.m_n.decompose(u.cgs.bases))"
   ]
  },
  {
   "cell_type": "markdown",
   "metadata": {},
   "source": [
    "Create a dictionary of (n,g) reaction cross sections."
   ]
  },
  {
   "cell_type": "code",
   "execution_count": 6,
   "metadata": {
    "id": "V757KANm1yHC"
   },
   "outputs": [],
   "source": [
    "sig_dict = {}\n",
    "\n",
    "for s in reac:\n",
    "    reaction = reac[s]\n",
    "    rate = reaction.compute_rate(T9) * u.cm**3 /u.second /u.mol \n",
    "    sigma = (rate / (pc.N_A * v_t)).to(u.barn)\n",
    "        \n",
    "    usigma = 1000 * sigma / u.barn\n",
    "    sig_dict[s] = usigma "
   ]
  },
  {
   "cell_type": "markdown",
   "metadata": {},
   "source": [
    "Select a set of nuclides with an XPath expression."
   ]
  },
  {
   "cell_type": "code",
   "execution_count": 7,
   "metadata": {},
   "outputs": [],
   "source": [
    "nuc_xpath = \"[z = 40 and a >= 90 and a <= 100]\"\n",
    "\n",
    "nuclides = my_xml.get_nuclide_data(nuc_xpath)"
   ]
  },
  {
   "cell_type": "markdown",
   "metadata": {},
   "source": [
    "Retrieve the nuclides of interest."
   ]
  },
  {
   "cell_type": "code",
   "execution_count": 8,
   "metadata": {
    "id": "RqnBhhwE17i3"
   },
   "outputs": [],
   "source": [
    "my_filter = {}\n",
    "\n",
    "for reaction in reac:\n",
    "    for reactant in reac[reaction].reactants:\n",
    "        if reactant in nuclides:\n",
    "            my_filter[reaction] = [nuclides[reactant]['n']]\n",
    "            \n",
    "for reaction in reac:\n",
    "    for reactant in reac[reaction].reactants:\n",
    "        if reactant in nuclides:\n",
    "            my_filter[reaction].append(reactant)\n",
    "            "
   ]
  },
  {
   "cell_type": "markdown",
   "metadata": {},
   "source": [
    "Create a new dictionary of the cross sections of interest."
   ]
  },
  {
   "cell_type": "code",
   "execution_count": 9,
   "metadata": {},
   "outputs": [],
   "source": [
    "rsig_dict = {k: sig_dict[k] for k in my_filter}"
   ]
  },
  {
   "cell_type": "markdown",
   "metadata": {},
   "source": [
    "Change 2 in {.2f} to change the number of decimal places shown."
   ]
  },
  {
   "cell_type": "code",
   "execution_count": 10,
   "metadata": {
    "colab": {
     "base_uri": "https://localhost:8080/"
    },
    "id": "e9irPJhj1-lN",
    "outputId": "90df6416-d807-4908-f209-f9d39dddb2aa"
   },
   "outputs": [
    {
     "name": "stdout",
     "output_type": "stream",
     "text": [
      "Cross Sections at T9 = 0.8\n",
      "\n",
      "n + zr90 -> zr91 + gamma: 14.40 mb\n",
      "n + zr91 -> zr92 + gamma: 35.25 mb\n",
      "n + zr92 -> zr93 + gamma: 21.69 mb\n",
      "n + zr93 -> zr94 + gamma: 49.04 mb\n",
      "n + zr94 -> zr95 + gamma: 21.76 mb\n",
      "n + zr95 -> zr96 + gamma: 43.43 mb\n",
      "n + zr96 -> zr97 + gamma: 5.29 mb\n",
      "n + zr97 -> zr98 + gamma: 8.93 mb\n",
      "n + zr98 -> zr99 + gamma: 7.32 mb\n",
      "n + zr99 -> zr100 + gamma: 18.92 mb\n",
      "n + zr100 -> zr101 + gamma: 5.68 mb\n"
     ]
    }
   ],
   "source": [
    "print('Cross Sections at T9 = ' + str(T9))\n",
    "print()\n",
    "\n",
    "for k in sorted(my_filter.keys(), key=lambda x: my_filter[x][0]):\n",
    "    sig =\"{:.2f}\".format(rsig_dict[k])\n",
    "    print(str(k)+': ' + str(sig) + ' mb')"
   ]
  },
  {
   "cell_type": "markdown",
   "metadata": {},
   "source": [
    "We now plot $\\sigma_n$ vs $N$, the neutron number of the nuclides."
   ]
  },
  {
   "cell_type": "code",
   "execution_count": 11,
   "metadata": {
    "scrolled": true
   },
   "outputs": [
    {
     "data": {
      "image/png": "[encoded data removed]",
      "text/plain": [
       "<Figure size 432x288 with 1 Axes>"
      ]
     },
     "metadata": {
      "needs_background": "light"
     },
     "output_type": "display_data"
    }
   ],
   "source": [
    "x = []\n",
    "y = []\n",
    "\n",
    "for k in sorted(my_filter.keys(), key=lambda x: my_filter[x][0]):\n",
    "    x.append(my_filter[k][0])\n",
    "    y.append(rsig_dict[k])\n",
    "\n",
    "plt.plot(x, y)\n",
    "plt.ylabel('$\\\\sigma_n$')\n",
    "plt.xlabel('N')\n",
    "plt.show()"
   ]
  },
  {
   "cell_type": "code",
   "execution_count": null,
   "metadata": {},
   "outputs": [],
   "source": []
  }
 ],
 "metadata": {
  "colab": {
   "authorship_tag": "ABX9TyOBa1w3f7TJR05ML+W6Wpji",
   "include_colab_link": true,
   "name": "Copy of Untitled0.ipynb",
   "provenance": [],
   "toc_visible": true
  },
  "kernelspec": {
   "display_name": "Python 3",
   "language": "python",
   "name": "python3"
  },
  "language_info": {
   "codemirror_mode": {
    "name": "ipython",
    "version": 3
   },
   "file_extension": ".py",
   "mimetype": "text/x-python",
   "name": "python",
   "nbconvert_exporter": "python",
   "pygments_lexer": "ipython3",
   "version": "3.7.13"
  }
 },
 "nbformat": 4,
 "nbformat_minor": 1
}
