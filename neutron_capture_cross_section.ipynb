{
 "cells": [
  {
   "cell_type": "markdown",
   "metadata": {
    "id": "quNLe2bn0Eh3"
   },
   "source": [
    "This is a notebook that calculates neutron capture cross sections at a given T9 in units of millibarns $(mb)$"
   ]
  },
  {
   "cell_type": "markdown",
   "metadata": {},
   "source": [
    "Here we import the relavent python packages"
   ]
  },
  {
   "cell_type": "code",
   "execution_count": 1,
   "metadata": {
    "id": "wjXHgtLr0Lqt"
   },
   "outputs": [],
   "source": [
    "import sys\n",
    "!{sys.executable} -m pip install --quiet wnutils\n",
    "\n",
    "!{sys.executable} -m pip install --quiet astropy\n",
    "\n",
    "!{sys.executable} -m pip install --quiet networkx\n",
    "\n",
    "import os, io, requests\n",
    "from lxml import etree\n",
    "\n",
    "import wnutils.xml as wx\n",
    "import numpy as np\n",
    "from astropy import constants as pc\n",
    "from astropy import units as u\n",
    "from matplotlib import pyplot as plt\n",
    "\n",
    "from collections import defaultdict\n",
    "\n",
    "import networkx as nx"
   ]
  },
  {
   "cell_type": "markdown",
   "metadata": {
    "id": "Ow3BRH3q1oRk"
   },
   "source": [
    "Retrieve network data from [OSF](https://osf.io/5cyg7/) or use a local file.  To use a local file, upload the network XML file to the local directory and execute the relevant command.  In the commented case, the file would be *example.xml*, so you would upload that file and uncomment the read line."
   ]
  },
  {
   "cell_type": "code",
   "execution_count": 2,
   "metadata": {
    "id": "K7puh5bF1o0g"
   },
   "outputs": [],
   "source": [
    "my_xml = wx.Xml(io.BytesIO(requests.get('https://osf.io/kyhbs/download').content))\n",
    "#my_xml = wx.Xml('example.xml')"
   ]
  },
  {
   "cell_type": "markdown",
   "metadata": {},
   "source": [
    "Use an xpath expression to select out only $(n, \\gamma)$ reaction data."
   ]
  },
  {
   "cell_type": "code",
   "execution_count": 3,
   "metadata": {
    "id": "vBWn1_hA12SY"
   },
   "outputs": [],
   "source": [
    "reac = my_xml.get_reaction_data(\"[reactant = 'n' and count(reactant) = 2  and product = 'gamma' and count(product) = 2]\")"
   ]
  },
  {
   "cell_type": "markdown",
   "metadata": {},
   "source": [
    "Select a set of nuclides with an XPath expression."
   ]
  },
  {
   "cell_type": "code",
   "execution_count": 4,
   "metadata": {
    "id": "HjQv36BX10c-"
   },
   "outputs": [],
   "source": [
    "nuc_xpath = \"[z = 40 and a >= 90 and a <= 100]\"\n",
    "\n",
    "nuclides = my_xml.get_nuclide_data(nuc_xpath)"
   ]
  },
  {
   "cell_type": "markdown",
   "metadata": {},
   "source": [
    "Now choose the temperature, T9, to calculate the cross sections.  Convert T9 to T in K."
   ]
  },
  {
   "cell_type": "code",
   "execution_count": 5,
   "metadata": {
    "id": "t9AKivcu1rjQ"
   },
   "outputs": [],
   "source": [
    "T9 = 0.8\n",
    "T = T9 * 1.e9 * u.K"
   ]
  },
  {
   "cell_type": "markdown",
   "metadata": {},
   "source": [
    "Now calculate the thermal velocity."
   ]
  },
  {
   "cell_type": "code",
   "execution_count": 6,
   "metadata": {
    "id": "NsaGPWxM1uUI"
   },
   "outputs": [],
   "source": [
    "v_t = np.sqrt((2 * pc.k_B.decompose(u.cgs.bases) * T) / pc.m_n.decompose(u.cgs.bases))"
   ]
  },
  {
   "cell_type": "code",
   "execution_count": 7,
   "metadata": {
    "id": "V757KANm1yHC"
   },
   "outputs": [],
   "source": [
    "sig_dict = {}\n",
    "\n",
    "for s in reac:\n",
    "    reaction = reac[s]\n",
    "    rate = reaction.compute_rate(T9) * u.cm**3 /u.second /u.mol \n",
    "    sigma = (rate / (pc.N_A * v_t)).to(u.barn)\n",
    "        \n",
    "    usigma = 1000 * sigma / u.barn\n",
    "    sig_dict[s] = usigma "
   ]
  },
  {
   "cell_type": "markdown",
   "metadata": {},
   "source": [
    "We now specify that we only want the $(n,\\gamma)$ reactions with the nuclides of interest"
   ]
  },
  {
   "cell_type": "code",
   "execution_count": 8,
   "metadata": {
    "id": "RqnBhhwE17i3"
   },
   "outputs": [
    {
     "name": "stdout",
     "output_type": "stream",
     "text": [
      "{'n + zr98 -> zr99 + gamma': [58, 'zr98'], 'n + zr92 -> zr93 + gamma': [52, 'zr92'], 'n + zr91 -> zr92 + gamma': [51, 'zr91'], 'n + zr97 -> zr98 + gamma': [57, 'zr97'], 'n + zr94 -> zr95 + gamma': [54, 'zr94'], 'n + zr100 -> zr101 + gamma': [60, 'zr100'], 'n + zr93 -> zr94 + gamma': [53, 'zr93'], 'n + zr95 -> zr96 + gamma': [55, 'zr95'], 'n + zr99 -> zr100 + gamma': [59, 'zr99'], 'n + zr96 -> zr97 + gamma': [56, 'zr96'], 'n + zr90 -> zr91 + gamma': [50, 'zr90']}\n"
     ]
    }
   ],
   "source": [
    "filter = {}\n",
    "\n",
    "for reaction in reac:\n",
    "    for reactant in reac[reaction].reactants:\n",
    "        if reactant in nuclides:\n",
    "            filter[reaction] = [nuclides[reactant]['n']]\n",
    "            \n",
    "for reaction in reac:\n",
    "    for reactant in reac[reaction].reactants:\n",
    "        if reactant in nuclides:\n",
    "            filter[reaction].append(reactant)\n",
    "            \n",
    "print(filter)"
   ]
  },
  {
   "cell_type": "code",
   "execution_count": 9,
   "metadata": {
    "id": "ruriDZsw19KQ"
   },
   "outputs": [],
   "source": [
    "for key in list(sig_dict.keys()):\n",
    "    if key not in filter:\n",
    "        del sig_dict[key]"
   ]
  },
  {
   "cell_type": "markdown",
   "metadata": {},
   "source": [
    "Change 2 in {.2f} to change the numver of decimal places shown"
   ]
  },
  {
   "cell_type": "code",
   "execution_count": 10,
   "metadata": {
    "colab": {
     "base_uri": "https://localhost:8080/"
    },
    "id": "e9irPJhj1-lN",
    "outputId": "90df6416-d807-4908-f209-f9d39dddb2aa"
   },
   "outputs": [
    {
     "name": "stdout",
     "output_type": "stream",
     "text": [
      "Cross Sections at T9 = 0.8\n",
      "\n",
      "n + zr100 -> zr101 + gamma: 5.68 mb\n",
      "n + zr90 -> zr91 + gamma: 14.40 mb\n",
      "n + zr91 -> zr92 + gamma: 35.25 mb\n",
      "n + zr92 -> zr93 + gamma: 21.69 mb\n",
      "n + zr93 -> zr94 + gamma: 49.04 mb\n",
      "n + zr94 -> zr95 + gamma: 21.76 mb\n",
      "n + zr95 -> zr96 + gamma: 43.43 mb\n",
      "n + zr96 -> zr97 + gamma: 5.29 mb\n",
      "n + zr97 -> zr98 + gamma: 8.93 mb\n",
      "n + zr98 -> zr99 + gamma: 7.32 mb\n",
      "n + zr99 -> zr100 + gamma: 18.92 mb\n"
     ]
    }
   ],
   "source": [
    "print('Cross Sections at T9 = ' + str(T9))\n",
    "print()\n",
    "\n",
    "for k,v in sorted(sig_dict.items()):\n",
    "    x =\"{:.2f}\".format(v)\n",
    "    print(str(k)+': ' + str(x) + ' mb')"
   ]
  },
  {
   "cell_type": "markdown",
   "metadata": {},
   "source": [
    "We now plot $\\sigma_n$ vs $n$"
   ]
  },
  {
   "cell_type": "code",
   "execution_count": 11,
   "metadata": {
    "scrolled": true
   },
   "outputs": [
    {
     "data": {
      "image/png": "[encoded data removed]",
      "text/plain": [
       "<Figure size 432x288 with 1 Axes>"
      ]
     },
     "metadata": {
      "needs_background": "light"
     },
     "output_type": "display_data"
    }
   ],
   "source": [
    "combine = defaultdict(list)\n",
    "\n",
    "for d in (sig_dict, filter):\n",
    "    for key, value in d.items():\n",
    "       combine[key].append(value)\n",
    "    \n",
    "sortedcombine = {k: v for k, v in sorted(combine.items(), key=lambda item: item[1][1])}\n",
    "\n",
    "\n",
    "x = []\n",
    "y = []\n",
    "\n",
    "for s in list(sortedcombine.values()):\n",
    "    x.append(s[1][0])\n",
    "    y.append(s[0])\n",
    "\n",
    "#print(sortedcombine)\n",
    "#print(x)\n",
    "#print(y)\n",
    "\n",
    "plt.plot(x, y)\n",
    "plt.ylabel('$\\\\sigma_n$')\n",
    "plt.xlabel('N')\n",
    "plt.show()"
   ]
  },
  {
   "cell_type": "markdown",
   "metadata": {},
   "source": [
    "Create a graph of the reactions."
   ]
  },
  {
   "cell_type": "code",
   "execution_count": 12,
   "metadata": {},
   "outputs": [
    {
     "data": {
      "text/plain": [
       "{'zr90': {'zr91': {'weight': <Quantity 14.4005008>}},\n",
       " 'zr91': {'zr92': {'weight': <Quantity 35.24875287>}},\n",
       " 'zr92': {'zr93': {'weight': <Quantity 21.6859625>}},\n",
       " 'zr93': {'zr94': {'weight': <Quantity 49.04019719>}},\n",
       " 'zr94': {'zr95': {'weight': <Quantity 21.75792294>}},\n",
       " 'zr95': {'zr96': {'weight': <Quantity 43.43042427>}},\n",
       " 'zr96': {'zr97': {'weight': <Quantity 5.2883168>}},\n",
       " 'zr97': {'zr98': {'weight': <Quantity 8.92866712>}},\n",
       " 'zr98': {'zr99': {'weight': <Quantity 7.31702762>}},\n",
       " 'zr99': {'zr100': {'weight': <Quantity 18.9199572>}},\n",
       " 'zr100': {}}"
      ]
     },
     "execution_count": 12,
     "metadata": {},
     "output_type": "execute_result"
    }
   ],
   "source": [
    "G = nx.DiGraph()\n",
    "\n",
    "x = []\n",
    "y = []\n",
    "z = []\n",
    "\n",
    "for s,v in list(sortedcombine.items()):\n",
    "    x.append(v[1][1])\n",
    "    y.append(v[0])\n",
    "    z.append(v[1][1])\n",
    "\n",
    "z.pop(0)\n",
    "\n",
    "\n",
    "for i,j,k in zip(x,y,z):\n",
    "    G.add_node(i)\n",
    "    G.add_edge(i,k, weight=j)\n",
    "\n",
    "nx.to_dict_of_dicts(G)"
   ]
  },
  {
   "cell_type": "markdown",
   "metadata": {},
   "source": [
    "Plot the graph."
   ]
  },
  {
   "cell_type": "code",
   "execution_count": 13,
   "metadata": {},
   "outputs": [
    {
     "data": {
      "image/png": "[encoded data removed]",
      "text/plain": [
       "<Figure size 432x288 with 1 Axes>"
      ]
     },
     "metadata": {},
     "output_type": "display_data"
    }
   ],
   "source": [
    "pos = nx.shell_layout(G, scale=1)  \n",
    "\n",
    "widths = {e: G.edges[e]['weight']/10 for e in G.edges}\n",
    "\n",
    "nx.draw_networkx_nodes(G,pos,\n",
    "                       node_size=1500,\n",
    "                       node_color='green',\n",
    "                       alpha=0.5)\n",
    "nx.draw_networkx_edges(G,pos,\n",
    "                       edgelist = widths.keys(),\n",
    "                       width=list(widths.values()),\n",
    "                       edge_color='black',\n",
    "                       alpha=1)\n",
    "nx.draw_networkx_labels(G, pos=pos,\n",
    "                        font_color='white')\n",
    "\n",
    "\n",
    "plt.box(False)\n",
    "plt.show()"
   ]
  },
  {
   "cell_type": "code",
   "execution_count": null,
   "metadata": {},
   "outputs": [],
   "source": []
  }
 ],
 "metadata": {
  "colab": {
   "authorship_tag": "ABX9TyOBa1w3f7TJR05ML+W6Wpji",
   "include_colab_link": true,
   "name": "Copy of Untitled0.ipynb",
   "provenance": [],
   "toc_visible": true
  },
  "kernelspec": {
   "display_name": "Python 3",
   "language": "python",
   "name": "python3"
  },
  "language_info": {
   "codemirror_mode": {
    "name": "ipython",
    "version": 3
   },
   "file_extension": ".py",
   "mimetype": "text/x-python",
   "name": "python",
   "nbconvert_exporter": "python",
   "pygments_lexer": "ipython3",
   "version": "3.7.13"
  }
 },
 "nbformat": 4,
 "nbformat_minor": 1
}
